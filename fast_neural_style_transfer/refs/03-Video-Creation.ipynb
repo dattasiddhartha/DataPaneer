{
 "cells": [
  {
   "cell_type": "code",
   "execution_count": 1,
   "metadata": {},
   "outputs": [],
   "source": [
    "%matplotlib inline\n",
    "\n",
    "from PIL import Image\n",
    "import skvideo.io\n",
    "import numpy as np\n",
    "import torch\n",
    "from torchvision import transforms\n",
    "from tqdm import tqdm_notebook\n",
    "\n",
    "from fast_neural_style.transformer_net import TransformerNet\n",
    "from fast_neural_style.utils import recover_image, tensor_normalizer"
   ]
  },
  {
   "cell_type": "code",
   "execution_count": 2,
   "metadata": {},
   "outputs": [],
   "source": [
    "preprocess = transforms.Compose([\n",
    "    transforms.ToTensor(),\n",
    "    tensor_normalizer()\n",
    "])"
   ]
  },
  {
   "cell_type": "code",
   "execution_count": 3,
   "metadata": {},
   "outputs": [],
   "source": [
    "transformer = TransformerNet()"
   ]
  },
  {
   "cell_type": "markdown",
   "metadata": {},
   "source": [
    "## Low Resolution GIF Animation"
   ]
  },
  {
   "cell_type": "markdown",
   "metadata": {},
   "source": [
    "Convert gif file to video file: \n",
    "```\n",
    "ffmpeg -f gif -i cat.gif cat.mp4\n",
    "```"
   ]
  },
  {
   "cell_type": "code",
   "execution_count": null,
   "metadata": {},
   "outputs": [],
   "source": [
    "skvideo.io.ffprobe(\"videos/cat.mp4\")"
   ]
  },
  {
   "cell_type": "code",
   "execution_count": 2,
   "metadata": {},
   "outputs": [],
   "source": [
    "transformer.load_state_dict(torch.load(\"../models/udine_10000.pth\"))"
   ]
  },
  {
   "cell_type": "code",
   "execution_count": null,
   "metadata": {},
   "outputs": [],
   "source": [
    "frames = []\n",
    "frames_orig = []\n",
    "videogen = skvideo.io.vreader(\"videos/cat.mp4\")\n",
    "for frame in videogen:\n",
    "    frames_orig.append(Image.fromarray(frame))\n",
    "    frames.append(recover_image(transformer(\n",
    "        Variable(preprocess(frame).unsqueeze(0), volatile=True)).data.numpy())[0])"
   ]
  },
  {
   "cell_type": "code",
   "execution_count": null,
   "metadata": {
    "scrolled": true
   },
   "outputs": [],
   "source": [
    "Image.fromarray(frames[3])"
   ]
  },
  {
   "cell_type": "code",
   "execution_count": null,
   "metadata": {},
   "outputs": [],
   "source": [
    "writer = skvideo.io.FFmpegWriter(\"cat.mp4\")# tuple([len(frames)] + list(frames[0].shape)))\n",
    "for frame in frames:\n",
    "    writer.writeFrame(frame)\n",
    "writer.close()"
   ]
  },
  {
   "cell_type": "markdown",
   "metadata": {},
   "source": [
    "## Higher Resolution Videos"
   ]
  },
  {
   "cell_type": "code",
   "execution_count": 4,
   "metadata": {},
   "outputs": [
    {
     "data": {
      "text/plain": [
       "{'video': OrderedDict([('@index', '0'),\n",
       "              ('@codec_name', 'h264'),\n",
       "              ('@codec_long_name',\n",
       "               'H.264 / AVC / MPEG-4 AVC / MPEG-4 part 10'),\n",
       "              ('@profile', 'Main'),\n",
       "              ('@codec_type', 'video'),\n",
       "              ('@codec_time_base', '1001/48000'),\n",
       "              ('@codec_tag_string', 'avc1'),\n",
       "              ('@codec_tag', '0x31637661'),\n",
       "              ('@width', '854'),\n",
       "              ('@height', '480'),\n",
       "              ('@coded_width', '864'),\n",
       "              ('@coded_height', '480'),\n",
       "              ('@has_b_frames', '1'),\n",
       "              ('@sample_aspect_ratio', '1:1'),\n",
       "              ('@display_aspect_ratio', '427:240'),\n",
       "              ('@pix_fmt', 'yuv420p'),\n",
       "              ('@level', '30'),\n",
       "              ('@color_range', 'tv'),\n",
       "              ('@color_space', 'bt709'),\n",
       "              ('@color_transfer', 'bt709'),\n",
       "              ('@color_primaries', 'bt709'),\n",
       "              ('@chroma_location', 'left'),\n",
       "              ('@refs', '3'),\n",
       "              ('@is_avc', '1'),\n",
       "              ('@nal_length_size', '4'),\n",
       "              ('@r_frame_rate', '24000/1001'),\n",
       "              ('@avg_frame_rate', '24000/1001'),\n",
       "              ('@time_base', '1/90000'),\n",
       "              ('@start_pts', '0'),\n",
       "              ('@start_time', '0.000000'),\n",
       "              ('@duration_ts', '24553278'),\n",
       "              ('@duration', '272.814200'),\n",
       "              ('@bit_rate', '15790'),\n",
       "              ('@bits_per_raw_sample', '8'),\n",
       "              ('disposition',\n",
       "               OrderedDict([('@default', '1'),\n",
       "                            ('@dub', '0'),\n",
       "                            ('@original', '0'),\n",
       "                            ('@comment', '0'),\n",
       "                            ('@lyrics', '0'),\n",
       "                            ('@karaoke', '0'),\n",
       "                            ('@forced', '0'),\n",
       "                            ('@hearing_impaired', '0'),\n",
       "                            ('@visual_impaired', '0'),\n",
       "                            ('@clean_effects', '0'),\n",
       "                            ('@attached_pic', '0')])),\n",
       "              ('tag',\n",
       "               [OrderedDict([('@key', 'creation_time'),\n",
       "                             ('@value', '2018-05-19 08:50:42')]),\n",
       "                OrderedDict([('@key', 'language'), ('@value', 'und')]),\n",
       "                OrderedDict([('@key', 'handler_name'),\n",
       "                             ('@value', 'VideoHandler')])])])}"
      ]
     },
     "execution_count": 4,
     "metadata": {},
     "output_type": "execute_result"
    }
   ],
   "source": [
    "skvideo.io.ffprobe(\"../videos/obama.mp4\")"
   ]
  },
  {
   "cell_type": "markdown",
   "metadata": {},
   "source": [
    "Switch to GPU:"
   ]
  },
  {
   "cell_type": "code",
   "execution_count": 4,
   "metadata": {},
   "outputs": [],
   "source": [
    "transformer.cuda()\n",
    "BATCH_SIZE = 2"
   ]
  },
  {
   "cell_type": "code",
   "execution_count": 5,
   "metadata": {},
   "outputs": [],
   "source": [
    "transformer.load_state_dict(torch.load(\"../models/mosaic_10000.pth\"))"
   ]
  },
  {
   "cell_type": "code",
   "execution_count": 6,
   "metadata": {},
   "outputs": [
    {
     "data": {
      "application/vnd.jupyter.widget-view+json": {
       "model_id": "9bb69f19447146fbb6e92c7506ec8040",
       "version_major": 2,
       "version_minor": 0
      },
      "text/plain": [
       "HBox(children=(IntProgress(value=1, bar_style='info', max=1), HTML(value='')))"
      ]
     },
     "metadata": {},
     "output_type": "display_data"
    },
    {
     "name": "stdout",
     "output_type": "stream",
     "text": [
      "\n"
     ]
    }
   ],
   "source": [
    "batch = []\n",
    "videogen = skvideo.io.FFmpegReader(\"../videos/cod-2.mp4\", {\"-ss\": \"00:05:00\", \"-t\": \"00:01:00\"})\n",
    "writer = skvideo.io.FFmpegWriter(\"../videos/cod-clip-noise.mp4\")\n",
    "try:\n",
    "    with torch.no_grad():\n",
    "        for frame in tqdm_notebook(videogen.nextFrame()):\n",
    "            batch.append(preprocess(frame).unsqueeze(0))\n",
    "            if len(batch) == BATCH_SIZE:\n",
    "                for frame_out in recover_image(transformer(\n",
    "                    torch.cat(batch, 0).cuda()).cpu().numpy()):\n",
    "                    writer.writeFrame(frame_out)\n",
    "                batch = []\n",
    "except RuntimeError as e:\n",
    "    print(e)\n",
    "    pass\n",
    "writer.close()"
   ]
  },
  {
   "cell_type": "code",
   "execution_count": 8,
   "metadata": {},
   "outputs": [],
   "source": [
    "transformer.load_state_dict(torch.load(\"../models/udine_10000_unstable.pth\"))"
   ]
  },
  {
   "cell_type": "code",
   "execution_count": 9,
   "metadata": {},
   "outputs": [
    {
     "data": {
      "application/vnd.jupyter.widget-view+json": {
       "model_id": "a0e42443a207454498356498ce457206",
       "version_major": 2,
       "version_minor": 0
      },
      "text/plain": [
       "HBox(children=(IntProgress(value=1, bar_style='info', max=1), HTML(value='')))"
      ]
     },
     "metadata": {},
     "output_type": "display_data"
    }
   ],
   "source": [
    "batch = []\n",
    "videogen = skvideo.io.FFmpegReader(\"../videos/cod-2.mp4\", {\"-ss\": \"00:05:00\", \"-t\": \"00:01:00\"})\n",
    "writer = skvideo.io.FFmpegWriter(\"../videos/cod-clip.mp4\")\n",
    "try:\n",
    "    with torch.no_grad():\n",
    "        for frame in tqdm_notebook(videogen.nextFrame()):\n",
    "            batch.append(preprocess(frame).unsqueeze(0))\n",
    "            if len(batch) == BATCH_SIZE:\n",
    "                for frame_out in recover_image(transformer(\n",
    "                    torch.cat(batch, 0).cuda()).cpu().numpy()):\n",
    "                    writer.writeFrame(frame_out)\n",
    "                batch = []\n",
    "except RuntimeError as e:\n",
    "    pass\n",
    "writer.close()"
   ]
  },
  {
   "cell_type": "code",
   "execution_count": null,
   "metadata": {
    "collapsed": true
   },
   "outputs": [],
   "source": []
  }
 ],
 "metadata": {
  "kernelspec": {
   "display_name": "Python 3",
   "language": "python",
   "name": "python3"
  },
  "language_info": {
   "codemirror_mode": {
    "name": "ipython",
    "version": 3
   },
   "file_extension": ".py",
   "mimetype": "text/x-python",
   "name": "python",
   "nbconvert_exporter": "python",
   "pygments_lexer": "ipython3",
   "version": "3.6.5"
  }
 },
 "nbformat": 4,
 "nbformat_minor": 2
}
