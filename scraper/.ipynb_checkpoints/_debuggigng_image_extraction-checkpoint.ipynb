{
 "cells": [
  {
   "cell_type": "code",
   "execution_count": 3,
   "metadata": {},
   "outputs": [],
   "source": [
    "import pandas as pd\n",
    "data = pd.read_csv(\"allrecipes.csv\")"
   ]
  },
  {
   "cell_type": "code",
   "execution_count": 10,
   "metadata": {},
   "outputs": [
    {
     "data": {
      "text/plain": [
       "0       https://imagesvc.meredithcorp.io/v3/mm/image?u...\n",
       "1       https://imagesvc.meredithcorp.io/v3/mm/image?u...\n",
       "2       https://imagesvc.meredithcorp.io/v3/mm/image?u...\n",
       "3       https://imagesvc.meredithcorp.io/v3/mm/image?u...\n",
       "4       https://imagesvc.meredithcorp.io/v3/mm/image?u...\n",
       "                              ...                        \n",
       "1140    https://imagesvc.meredithcorp.io/v3/mm/image?u...\n",
       "1141    https://imagesvc.meredithcorp.io/v3/mm/image?u...\n",
       "1142    https://imagesvc.meredithcorp.io/v3/mm/image?u...\n",
       "1143    https://imagesvc.meredithcorp.io/v3/mm/image?u...\n",
       "1144    https://imagesvc.meredithcorp.io/v3/mm/image?u...\n",
       "Name: photos, Length: 1145, dtype: object"
      ]
     },
     "execution_count": 10,
     "metadata": {},
     "output_type": "execute_result"
    }
   ],
   "source": [
    "data[data.columns[0]]\n",
    "data[data.columns[6]]"
   ]
  },
  {
   "cell_type": "code",
   "execution_count": null,
   "metadata": {},
   "outputs": [],
   "source": [
    "import requests, os\n",
    "os.mkdir(\"scraped_img\")"
   ]
  },
  {
   "cell_type": "code",
   "execution_count": 16,
   "metadata": {},
   "outputs": [],
   "source": [
    "for i in range(len(data)):\n",
    "    img_data = requests.get(data[data.columns[6]][i]).content\n",
    "    with open('./scraped_img/'+str(i)+'.jpg', 'wb') as handler:\n",
    "        handler.write(img_data)"
   ]
  }
 ],
 "metadata": {
  "kernelspec": {
   "display_name": "Python [conda env:tf_gpu]",
   "language": "python",
   "name": "conda-env-tf_gpu-py"
  },
  "language_info": {
   "codemirror_mode": {
    "name": "ipython",
    "version": 3
   },
   "file_extension": ".py",
   "mimetype": "text/x-python",
   "name": "python",
   "nbconvert_exporter": "python",
   "pygments_lexer": "ipython3",
   "version": "3.7.7"
  }
 },
 "nbformat": 4,
 "nbformat_minor": 2
}
